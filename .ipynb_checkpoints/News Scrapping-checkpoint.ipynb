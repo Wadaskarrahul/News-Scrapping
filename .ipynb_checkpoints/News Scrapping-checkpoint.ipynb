{
 "cells": [
  {
   "cell_type": "code",
   "execution_count": null,
   "id": "d899ad0e-04b5-4954-8261-e424e0b9dfa6",
   "metadata": {},
   "outputs": [],
   "source": [
    "import feedparser\n",
    "from newspaper import Article"
   ]
  },
  {
   "cell_type": "code",
   "execution_count": 2,
   "id": "38c1647f-d48d-4593-aa17-ecc3c851c043",
   "metadata": {},
   "outputs": [],
   "source": [
    "import json"
   ]
  },
  {
   "cell_type": "code",
   "execution_count": 3,
   "id": "06cfdad4-54e1-4ffe-ae89-9900596d8958",
   "metadata": {},
   "outputs": [],
   "source": [
    "rss_url = \"http://feeds.bbci.co.uk/news/rss.xml\""
   ]
  },
  {
   "cell_type": "code",
   "execution_count": 4,
   "id": "4461563c-5296-40a3-9cde-80efec637a37",
   "metadata": {},
   "outputs": [],
   "source": [
    "def fetch_rss_feeds(rss_url):\n",
    "    feeds = feedparser.parse(rss_url)\n",
    "    return feeds"
   ]
  },
  {
   "cell_type": "code",
   "execution_count": 5,
   "id": "a0326a53-247b-4a02-9ef5-a1bab0d03cd1",
   "metadata": {},
   "outputs": [
    {
     "name": "stdout",
     "output_type": "stream",
     "text": [
      "Title:Civil Service told to slash running costs by 15%\n",
      "Link:https://www.bbc.com/news/articles/cy5nzy403l0o\n",
      "\n",
      "Title:Pope Francis to be discharged from hospital\n",
      "Link:https://www.bbc.com/news/articles/crrdv84rg4do\n",
      "\n",
      "Title:Trump envoy dismisses Starmer plan for Ukraine\n",
      "Link:https://www.bbc.com/news/articles/c62zm4eqvp7o\n",
      "\n",
      "Title:Grassroots anger tests Farage's grip on Reform UK\n",
      "Link:https://www.bbc.com/news/articles/c8x4np7zkx9o\n",
      "\n",
      "Title:Owners shocked as dogs seized for XL bully checks\n",
      "Link:https://www.bbc.com/news/articles/cgj5wng9y9lo\n",
      "\n",
      "Title:The man with a mind-reading chip in his brain - thanks to Elon Musk\n",
      "Link:https://www.bbc.com/news/articles/cewk49j7j1po\n",
      "\n",
      "Title:UK TV industry in crisis, says Wolf Hall director\n",
      "Link:https://www.bbc.com/news/articles/c3w10816en3o\n",
      "\n",
      "Title:A life spent waiting - and searching rows of unclaimed bodies\n",
      "Link:https://www.bbc.com/news/articles/c15qyyzz89lo\n",
      "\n",
      "Title:'My husband is a fighter pilot in Ukraine. Here's how I really feel about a ceasefire'\n",
      "Link:https://www.bbc.com/news/articles/c70wgq7y11qo\n",
      "\n",
      "Title:'Wonderful teenagers helped my son on Halloween': Readers recall kindness of strangers\n",
      "Link:https://www.bbc.com/news/articles/ckg14rxnw8jo\n",
      "\n",
      "Title:End of hedonism? Why Britain turned its back on clubbing\n",
      "Link:https://www.bbc.com/news/articles/czed9321l37o\n",
      "\n",
      "Title:Fear and anger mount as 'battle for the soul of Romanian democracy' looms\n",
      "Link:https://www.bbc.com/news/articles/c4g7w3v5vw7o\n",
      "\n",
      "Title:Your pictures on the theme of 'my best photo'\n",
      "Link:https://www.bbc.com/news/articles/c871q3dpyxpo\n",
      "\n",
      "Title:Are Nigerians abroad widening the class divide back home?\n",
      "Link:https://www.bbc.com/news/articles/cvg1p5ek72vo\n",
      "\n",
      "Title:Urgent investigation ordered into power outage that closed Heathrow Airport\n",
      "Link:https://www.bbc.com/news/articles/cgm1krkxrxgo\n",
      "\n",
      "Title:The Papers: 'Reeves wields axe on Civil Service' and 'boxing says bye George'\n",
      "Link:https://www.bbc.com/news/articles/cgj5qv862d9o\n",
      "\n",
      "Title:Government considering sending failed asylum seekers to Balkans\n",
      "Link:https://www.bbc.com/news/articles/cddyj8ge08po\n",
      "\n",
      "Title:MS Dhoni: The 43-year-old Indian cricket icon gears up for another IPL\n",
      "Link:https://www.bbc.com/news/articles/c5y2z448e8xo\n",
      "\n",
      "Title:Israel strikes Lebanon after first rocket attack since ceasefire\n",
      "Link:https://www.bbc.com/news/articles/cn4ynpzk8d8o\n",
      "\n",
      "Title:Facebook to stop targeting ads at UK woman after legal fight\n",
      "Link:https://www.bbc.com/news/articles/c1en1yjv4dpo\n",
      "\n",
      "Title:Reeves says she will not 'tax and spend' ahead of Spring Statement\n",
      "Link:https://www.bbc.com/news/articles/c78eg7dp9ypo\n",
      "\n",
      "Title:Protesters call for 'rights, justice' after Istanbul mayor's arrest\n",
      "Link:https://www.bbc.com/news/articles/c0egjvj8vdro\n",
      "\n",
      "Title:Police burn chemicals as running event cancelled\n",
      "Link:https://www.bbc.com/news/articles/cz614e6eepgo\n",
      "\n",
      "Title:High-rise flats demolition to alter Glasgow skyline\n",
      "Link:https://www.bbc.com/news/articles/c93n44x473go\n",
      "\n",
      "Title:McCann retires after first-round defeat at UFC London\n",
      "Link:https://www.bbc.com/sport/mixed-martial-arts/articles/cn89e7yzg49o\n",
      "\n",
      "Title:Police release new evidence in timeline of Hackman and his wife's death\n",
      "Link:https://www.bbc.com/news/articles/cx2g1xvzg4ko\n",
      "\n",
      "Title:Why was a white balloon flying across the UK?\n",
      "Link:https://www.bbc.com/news/articles/clyrpyk5re8o\n",
      "\n",
      "Title:Killer who cut up housemate caught in chance sighting\n",
      "Link:https://www.bbc.com/news/articles/cy4vxx4x74ko\n",
      "\n",
      "Title:BBC News app\n",
      "Link:https://www.bbc.co.uk/news/10628994\n",
      "\n",
      "Title:The Big Rachel Reeves Weekend\n",
      "Link:https://www.bbc.co.uk/sounds/play/p0kzsh79\n",
      "\n",
      "Title:Is Donald Trump ready to defy the courts?\n",
      "Link:https://www.bbc.co.uk/sounds/play/p0kz4qqr\n",
      "\n",
      "Title:England begin bid for legacy-defining year\n",
      "Link:https://www.bbc.com/sport/rugby-union/articles/cn8rng8g8ppo\n",
      "\n",
      "Title:'Mr Calm' Bellamy looks to Skopje after opening win\n",
      "Link:https://www.bbc.com/sport/football/articles/c3rn00ylyr0o\n",
      "\n",
      "Title:Draper shocked by Mensik in Miami Open second round\n",
      "Link:https://www.bbc.com/sport/tennis/articles/c1lp13d2gnno\n",
      "\n",
      "Title:Brady upsets Edwards with dominant display\n",
      "Link:https://www.bbc.com/sport/mixed-martial-arts/articles/cwyd45wnnkpo\n",
      "\n",
      "Title:McCann retires after first-round defeat at UFC London\n",
      "Link:https://www.bbc.com/sport/mixed-martial-arts/articles/cn89e7yzg49o\n",
      "\n",
      "Title:Scotland triumph in thriller against Wales\n",
      "Link:https://www.bbc.com/sport/rugby-union/videos/cq8y1w94dzwo\n",
      "\n"
     ]
    }
   ],
   "source": [
    "feeds = fetch_rss_feeds(rss_url)\n",
    "for entry in feeds.entries:\n",
    "    print(f\"Title:{entry.title}\")\n",
    "    print(f\"Link:{entry.link}\")\n",
    "    print()"
   ]
  },
  {
   "cell_type": "code",
   "execution_count": 6,
   "id": "2713aec3-84d3-41e5-824a-ca04ef34371f",
   "metadata": {},
   "outputs": [],
   "source": [
    "def scrape_article(url):\n",
    "    article = Article(url)\n",
    "    article.download()\n",
    "    article.parse()\n",
    "    return article\n"
   ]
  },
  {
   "cell_type": "code",
   "execution_count": 7,
   "id": "fbb4894a-f7c2-472f-85c6-a2ae2ebe40d5",
   "metadata": {},
   "outputs": [
    {
     "name": "stdout",
     "output_type": "stream",
     "text": [
      "Title :0Civil Service told by government to slash running costs by 15%\n",
      "Authors : []\n",
      "Publish Date: None\n",
      "Text: Civil Service told to slash running costs by 15%\n",
      "\n",
      "The changes are part of the government's ongoing spending review, the BBC understands, with Chancellor Rachel Reeves set to deliver her Spring Stateme\n",
      "\n",
      "Title :0Pope Francis to be discharged from hospital on Sunday\n",
      "Authors : []\n",
      "Publish Date: None\n",
      "Text: Pope Francis to be discharged from hospital\n",
      "\n",
      "Pope Francis (file image) has been battling double pneumonia for more than five weeks\n",
      "\n",
      "Pope Francis was never intubated and always remained alert and orien\n",
      "\n",
      "Title :0Trump envoy Steve Witkoff dismisses Starmer plan for Ukraine\n",
      "Authors : []\n",
      "Publish Date: None\n",
      "Text: Trump envoy dismisses Starmer plan for Ukraine\n",
      "\n",
      "6 hours ago Share Save James Landale • @BBCJLandale Diplomatic correspondent Reporting from Kyiv Share Save\n",
      "\n",
      "Reuters Sir Keir met a group of military le\n",
      "\n"
     ]
    }
   ],
   "source": [
    "for entry in feeds.entries[:3]:\n",
    "    article = scrape_article(entry.link)\n",
    "    print(f\"Title :0{article.title}\")\n",
    "    print(f\"Authors : {article.authors}\")\n",
    "    print(f\"Publish Date: {article.publish_date}\")\n",
    "    print(f\"Text: {article.text[:200]}\")\n",
    "    print()\n",
    "    "
   ]
  },
  {
   "cell_type": "code",
   "execution_count": 8,
   "id": "dd58af46-d46d-4b2a-a5f8-13f98e9e3873",
   "metadata": {},
   "outputs": [],
   "source": [
    "def save_to_file(data,filename):\n",
    "    with open(filename,\"w\") as f:\n",
    "        json.dump(data,f,indent =4 )"
   ]
  },
  {
   "cell_type": "code",
   "execution_count": 9,
   "id": "cbbd7299-16db-4bb3-b2e2-ba16a830451b",
   "metadata": {},
   "outputs": [],
   "source": [
    "articles_data =[]\n",
    "for entry in feeds.entries:\n",
    "    article = scrape_article(entry.link)\n",
    "    articles_data.append({\n",
    "        'title' : article.title,\n",
    "        'authors': article.authors,\n",
    "        'publish_date' : str(article.publish_date),\n",
    "        'text': article.text\n",
    "    })\n",
    "    "
   ]
  },
  {
   "cell_type": "code",
   "execution_count": 10,
   "id": "335040fc-0307-4ffe-973e-65f8831bebf0",
   "metadata": {},
   "outputs": [
    {
     "name": "stdout",
     "output_type": "stream",
     "text": [
      "Data saved to article.json\n"
     ]
    }
   ],
   "source": [
    "save_to_file(articles_data,'articles.json')\n",
    "print(\"Data saved to article.json\")"
   ]
  },
  {
   "cell_type": "code",
   "execution_count": null,
   "id": "817787c2-e101-4b9f-a84a-0b685b3a131b",
   "metadata": {},
   "outputs": [],
   "source": []
  }
 ],
 "metadata": {
  "kernelspec": {
   "display_name": "Python [conda env:base] *",
   "language": "python",
   "name": "conda-base-py"
  },
  "language_info": {
   "codemirror_mode": {
    "name": "ipython",
    "version": 3
   },
   "file_extension": ".py",
   "mimetype": "text/x-python",
   "name": "python",
   "nbconvert_exporter": "python",
   "pygments_lexer": "ipython3",
   "version": "3.12.7"
  }
 },
 "nbformat": 4,
 "nbformat_minor": 5
}
